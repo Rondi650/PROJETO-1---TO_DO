{
 "cells": [
  {
   "cell_type": "code",
   "execution_count": 15,
   "id": "69a439a6",
   "metadata": {},
   "outputs": [
    {
     "name": "stdout",
     "output_type": "stream",
     "text": [
      "0\n",
      "1\n"
     ]
    }
   ],
   "source": [
    "import itertools\n",
    "\n",
    "contador_ids = itertools.count()\n",
    "id_novo1 = next(contador_ids)  # Retorna 0\n",
    "id_novo2 = next(contador_ids)  # Retorna 1\n",
    "\n",
    "print(id_novo1)\n",
    "print(id_novo2)"
   ]
  },
  {
   "cell_type": "code",
   "execution_count": 36,
   "id": "5dcf8e5f",
   "metadata": {},
   "outputs": [
    {
     "name": "stdout",
     "output_type": "stream",
     "text": [
      "1\n"
     ]
    }
   ],
   "source": [
    "numero = 0\n",
    "numero += 1\n",
    "print(numero)"
   ]
  }
 ],
 "metadata": {
  "kernelspec": {
   "display_name": "Python 3",
   "language": "python",
   "name": "python3"
  },
  "language_info": {
   "codemirror_mode": {
    "name": "ipython",
    "version": 3
   },
   "file_extension": ".py",
   "mimetype": "text/x-python",
   "name": "python",
   "nbconvert_exporter": "python",
   "pygments_lexer": "ipython3",
   "version": "3.13.5"
  }
 },
 "nbformat": 4,
 "nbformat_minor": 5
}
